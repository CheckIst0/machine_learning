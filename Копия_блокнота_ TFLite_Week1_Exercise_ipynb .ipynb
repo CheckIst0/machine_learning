{
  "nbformat": 4,
  "nbformat_minor": 0,
  "metadata": {
    "accelerator": "GPU",
    "colab": {
      "provenance": [],
      "gpuType": "T4"
    },
    "kernelspec": {
      "display_name": "Python 3",
      "name": "python3"
    },
    "language_info": {
      "codemirror_mode": {
        "name": "ipython",
        "version": 3
      },
      "file_extension": ".py",
      "mimetype": "text/x-python",
      "name": "python",
      "nbconvert_exporter": "python",
      "pygments_lexer": "ipython3",
      "version": "3.7.4"
    }
  },
  "cells": [
    {
      "cell_type": "code",
      "metadata": {
        "id": "zX4Kg8DUTKWO"
      },
      "source": [
        "#@title Licensed under the Apache License, Version 2.0 (the \"License\");\n",
        "# you may not use this file except in compliance with the License.\n",
        "# You may obtain a copy of the License at\n",
        "#\n",
        "# https://www.apache.org/licenses/LICENSE-2.0\n",
        "#\n",
        "# Unless required by applicable law or agreed to in writing, software\n",
        "# distributed under the License is distributed on an \"AS IS\" BASIS,\n",
        "# WITHOUT WARRANTIES OR CONDITIONS OF ANY KIND, either express or implied.\n",
        "# See the License for the specific language governing permissions and\n",
        "# limitations under the License."
      ],
      "execution_count": 1,
      "outputs": []
    },
    {
      "cell_type": "markdown",
      "metadata": {
        "id": "Za8-Nr5k11fh"
      },
      "source": [
        "##### Copyright 2018 The TensorFlow Authors."
      ]
    },
    {
      "cell_type": "code",
      "metadata": {
        "cellView": "form",
        "id": "Eq10uEbw0E4l"
      },
      "source": [
        "#@title Licensed under the Apache License, Version 2.0 (the \"License\");\n",
        "# you may not use this file except in compliance with the License.\n",
        "# You may obtain a copy of the License at\n",
        "#\n",
        "# https://www.apache.org/licenses/LICENSE-2.0\n",
        "#\n",
        "# Unless required by applicable law or agreed to in writing, software\n",
        "# distributed under the License is distributed on an \"AS IS\" BASIS,\n",
        "# WITHOUT WARRANTIES OR CONDITIONS OF ANY KIND, either express or implied.\n",
        "# See the License for the specific language governing permissions and\n",
        "# limitations under the License."
      ],
      "execution_count": 2,
      "outputs": []
    },
    {
      "cell_type": "markdown",
      "metadata": {
        "id": "06ndLauQxiQm"
      },
      "source": [
        "# Обучите свою собственную модель и конвертируйте ее в TFLite"
      ]
    },
    {
      "cell_type": "markdown",
      "metadata": {
        "id": "Ka96-ajYzxVU"
      },
      "source": [
        "Этот ноутбук использует набор данных [Fashion MNIST](https://github.com/zalandoresearch/fashion-mnist) который содержит 70,000 черно-белых изображений, разбитых на 10 категорий. Изображения представляют отдельные предметы одежды в низком разрешении (28 на 28 пикселей), как показано здесь:\n",
        "\n",
        "<table>\n",
        "  <tr><td>\n",
        "    <img src=\"https://tensorflow.org/images/fashion-mnist-sprite.png\"\n",
        "         alt=\"Fashion MNIST sprite\"  width=\"600\">\n",
        "  </td></tr>\n",
        "  <tr><td align=\"center\">\n",
        "    <b>Figure 1.</b> <a href=\"https://github.com/zalandoresearch/fashion-mnist\">Fashion-MNIST samples</a> (by Zalando, MIT License).<br/>&nbsp;\n",
        "  </td></tr>\n",
        "</table>\n",
        "\n",
        "Fashion MNIST предназначен для замены классического набора данных [MNIST](http://yann.lecun.com/exdb/mnist/), который часто используется в качестве «Hello, World» программ машинного обучения для компьютерного зрения. Набор данных MNIST содержит изображения рукописных цифр (0, 1, 2 и т. Д.) В формате, идентичном формату предметов одежды, которые мы здесь будем использовать.\n",
        "\n",
        "Здесь используется Fashion MNIST для разнообразия и потому, что это немного более сложная задача, чем обычный MNIST. Оба набора данных относительно малы и используются для проверки правильности работы алгоритма. Они являются хорошей отправной точкой для тестирования и отладки кода.\n",
        "\n",
        "Мы  использовуем 60 000 изображений для обучения сети и 10 000 изображений, чтобы оценить, насколько точно сеть научилась классифицировать изображения. Вы можете получить доступ к Fashion MNIST прямо из TensorFlow. Импортируйте и загрузите данные Fashion MNIST прямо из TensorFlow:"
      ]
    },
    {
      "cell_type": "markdown",
      "metadata": {
        "id": "rjOAfhgd__Sp"
      },
      "source": [
        "# Setup"
      ]
    },
    {
      "cell_type": "code",
      "metadata": {
        "id": "Bp_nvHnh_tDo",
        "colab": {
          "base_uri": "https://localhost:8080/"
        },
        "outputId": "b5aa8d89-a0e0-44bb-d6ed-ccf0f9c0daeb"
      },
      "source": [
        "try:\n",
        "    %tensorflow_version 2.x\n",
        "except:\n",
        "    pass"
      ],
      "execution_count": 3,
      "outputs": [
        {
          "output_type": "stream",
          "name": "stdout",
          "text": [
            "Colab only includes TensorFlow 2.x; %tensorflow_version has no effect.\n"
          ]
        }
      ]
    },
    {
      "cell_type": "code",
      "metadata": {
        "id": "pfyZKowNAQ4j",
        "colab": {
          "base_uri": "https://localhost:8080/"
        },
        "outputId": "2e89fe01-91a2-488d-963c-98cd3a9fb2d3"
      },
      "source": [
        "import pathlib\n",
        "import numpy as np\n",
        "import matplotlib.pyplot as plt\n",
        "\n",
        "import tensorflow as tf\n",
        "import tensorflow_datasets as tfds\n",
        "tfds.disable_progress_bar()\n",
        "\n",
        "\n",
        "print('\\u2022 Используется TensorFlow версии ', tf.__version__)\n",
        "print('\\u2022 Обнаружен GPU.' if tf.test.is_gpu_available() else '\\u2022 GPU не обнаружен. Запущено на CPU')"
      ],
      "execution_count": 4,
      "outputs": [
        {
          "output_type": "stream",
          "name": "stderr",
          "text": [
            "WARNING:tensorflow:From <ipython-input-4-6b5b7fe20cb6>:11: is_gpu_available (from tensorflow.python.framework.test_util) is deprecated and will be removed in a future version.\n",
            "Instructions for updating:\n",
            "Use `tf.config.list_physical_devices('GPU')` instead.\n"
          ]
        },
        {
          "output_type": "stream",
          "name": "stdout",
          "text": [
            "• Используется TensorFlow версии  2.14.0\n",
            "• Обнаружен GPU.\n"
          ]
        }
      ]
    },
    {
      "cell_type": "markdown",
      "metadata": {
        "id": "tadPBTEiAprt"
      },
      "source": [
        "#Загрузка набра данных Fashion MNIST\n",
        "\n",
        "Мы используем TensorFlow Datasets для загрузки набора данных Fashion MNIST."
      ]
    },
    {
      "cell_type": "code",
      "metadata": {
        "id": "XcNwi6nFKneZ"
      },
      "source": [
        "splits, info = tfds.load('fashion_mnist', with_info=True, as_supervised=True, split=['train[0%:90%]','train[90%:100%]','test'])\n",
        "\n",
        "(train_examples, validation_examples, test_examples) = splits\n",
        "\n",
        "num_examples = info.splits['train'].num_examples\n",
        "num_classes = info.features['label'].num_classes"
      ],
      "execution_count": 5,
      "outputs": []
    },
    {
      "cell_type": "markdown",
      "metadata": {
        "id": "1BDdk6cGf7sl"
      },
      "source": [
        "Имена классов не включены в набор данных, поэтому мы укажем их здесь."
      ]
    },
    {
      "cell_type": "code",
      "metadata": {
        "id": "-eAv71FRm4JE"
      },
      "source": [
        "class_names = ['Футболка/топ', 'Брюки', 'Пуловер', 'Платье', 'Пальто',\n",
        "               'Сандалия', 'Рубашка', 'Кроссовка', 'Сумка', 'Ботинок']"
      ],
      "execution_count": 6,
      "outputs": []
    },
    {
      "cell_type": "code",
      "metadata": {
        "id": "hXe6jNokqX3_"
      },
      "source": [
        "# Создаем файл labels.txt с названиями классов\n",
        "with open('labels.txt', 'w') as f:\n",
        "    f.write('\\n'.join(class_names))"
      ],
      "execution_count": 7,
      "outputs": []
    },
    {
      "cell_type": "code",
      "metadata": {
        "id": "iubWCThbdN8K"
      },
      "source": [
        "# Изображения в наборе данных -  28 х 28 пикселей.\n",
        "IMG_SIZE = 28"
      ],
      "execution_count": 8,
      "outputs": []
    },
    {
      "cell_type": "markdown",
      "metadata": {
        "id": "ZAkuq0V0Aw2X"
      },
      "source": [
        "# Preprocessing data"
      ]
    },
    {
      "cell_type": "markdown",
      "metadata": {
        "id": "_5SIivkunKCC"
      },
      "source": [
        "## Preprocess"
      ]
    },
    {
      "cell_type": "code",
      "metadata": {
        "id": "BwyhsyGydHDl"
      },
      "source": [
        "# УПРАЖНЕНИЕ: напишите функцию для нормализации изображений.\n",
        "\n",
        "def format_example(image, label):\n",
        "    # Преобразуйте изображение к float32\n",
        "    image = tf.cast(image, tf.float32)\n",
        "\n",
        "    # Нормализуйте изображение к интервалу [0, 1]\n",
        "    image = image / 255\n",
        "\n",
        "    return image, label"
      ],
      "execution_count": 9,
      "outputs": []
    },
    {
      "cell_type": "code",
      "metadata": {
        "id": "HAlBlXOUMwqe"
      },
      "source": [
        "# Определим размер пакета\n",
        "BATCH_SIZE = 256"
      ],
      "execution_count": 10,
      "outputs": []
    },
    {
      "cell_type": "markdown",
      "metadata": {
        "id": "JM4HfIJtnNEk"
      },
      "source": [
        "## Create Datasets From Images and Labels"
      ]
    },
    {
      "cell_type": "code",
      "metadata": {
        "id": "uxe2I3oxLDhq"
      },
      "source": [
        "# Создание наборов данных тренировки, валидации и тестирования\n",
        "train_batches = train_examples.cache().shuffle(num_examples//4).batch(BATCH_SIZE).map(format_example).prefetch(1)\n",
        "validation_batches = validation_examples.cache().batch(BATCH_SIZE).map(format_example)\n",
        "test_batches = test_examples.batch(1).map(format_example)"
      ],
      "execution_count": 11,
      "outputs": []
    },
    {
      "cell_type": "markdown",
      "metadata": {
        "id": "M-topQaOm_LM"
      },
      "source": [
        "# Построение модели"
      ]
    },
    {
      "cell_type": "markdown",
      "metadata": {
        "id": "U-vO3v2Lf7so"
      },
      "source": [
        "```\n",
        "Model: \"sequential\"\n",
        "_________________________________________________________________\n",
        "Layer (type)                 Output Shape              Param #   \n",
        "=================================================================\n",
        "conv2d (Conv2D)              (None, 26, 26, 16)        160       \n",
        "_________________________________________________________________\n",
        "max_pooling2d (MaxPooling2D) (None, 13, 13, 16)        0         \n",
        "_________________________________________________________________\n",
        "conv2d_1 (Conv2D)            (None, 11, 11, 32)        4640      \n",
        "_________________________________________________________________\n",
        "flatten (Flatten)            (None, 3872)              0         \n",
        "_________________________________________________________________\n",
        "dense (Dense)                (None, 64)                247872    \n",
        "_________________________________________________________________\n",
        "dense_1 (Dense)              (None, 10)                650       \n",
        "=================================================================\n",
        "Total params: 253,322\n",
        "Trainable params: 253,322\n",
        "Non-trainable params: 0\n",
        "```"
      ]
    },
    {
      "cell_type": "code",
      "metadata": {
        "id": "kDqcwksFB1bh"
      },
      "source": [
        "# УПРАЖНЕНИЕ: постройте и скомпилируйте модель, как показано в предыдущей ячейке.\n",
        "\n",
        "model = tf.keras.Sequential([\n",
        "    # укажите форму ввода (28, 28, 1), размер ядра = 3, фильтры = 16 и используйте активацию ReLU,\n",
        "    tf.keras.layers.Conv2D(input_shape = (28, 28, 1), kernel_size = (3, 3), filters = 16, activation = 'relu'),\n",
        "\n",
        "    tf.keras.layers.MaxPooling2D(),\n",
        "\n",
        "    # Укажите количество фильтров 32, размер ядра  3 и функцию активации ReLU\n",
        "    tf.keras.layers.Conv2D(filters = 32, kernel_size = (3, 3), activation = 'relu'),\n",
        "\n",
        "    # Расплющивание выходного слоя в одномерный массив\n",
        "    tf.keras.layers.Flatten(),\n",
        "\n",
        "    # Добавьте полносвязанный слой с 64 скрытыми нейронами и активацией ReLU\n",
        "    tf.keras.layers.Dense(64, activation = 'relu'),\n",
        "\n",
        "    # Добавьте финальную классификацию softmax\n",
        "    tf.keras.layers.Dense(10, activation = 'softmax')])\n",
        "\n",
        "# Установите подходящую функцию потерь и используйте точность в качестве метрики\n",
        "model.compile(optimizer='adam',\n",
        "              loss= tf.keras.losses.SparseCategoricalCrossentropy(),\n",
        "              metrics='accuracy')"
      ],
      "execution_count": 12,
      "outputs": []
    },
    {
      "cell_type": "markdown",
      "metadata": {
        "id": "zEMOz-LDnxgD"
      },
      "source": [
        "## Train"
      ]
    },
    {
      "cell_type": "code",
      "metadata": {
        "id": "JGlNoRtzCP4_",
        "colab": {
          "base_uri": "https://localhost:8080/"
        },
        "outputId": "2413509e-1c21-4b40-f6a3-1b3dfc5ad7b9"
      },
      "source": [
        "model.fit(train_batches,\n",
        "          epochs=10,\n",
        "          validation_data=validation_batches)"
      ],
      "execution_count": 13,
      "outputs": [
        {
          "output_type": "stream",
          "name": "stdout",
          "text": [
            "Epoch 1/10\n",
            "211/211 [==============================] - 9s 20ms/step - loss: 0.6169 - accuracy: 0.7823 - val_loss: 0.4317 - val_accuracy: 0.8472\n",
            "Epoch 2/10\n",
            "211/211 [==============================] - 1s 7ms/step - loss: 0.3943 - accuracy: 0.8605 - val_loss: 0.3474 - val_accuracy: 0.8757\n",
            "Epoch 3/10\n",
            "211/211 [==============================] - 2s 7ms/step - loss: 0.3465 - accuracy: 0.8762 - val_loss: 0.3338 - val_accuracy: 0.8818\n",
            "Epoch 4/10\n",
            "211/211 [==============================] - 2s 7ms/step - loss: 0.3098 - accuracy: 0.8890 - val_loss: 0.3138 - val_accuracy: 0.8863\n",
            "Epoch 5/10\n",
            "211/211 [==============================] - 2s 7ms/step - loss: 0.2889 - accuracy: 0.8960 - val_loss: 0.2780 - val_accuracy: 0.9007\n",
            "Epoch 6/10\n",
            "211/211 [==============================] - 1s 6ms/step - loss: 0.2690 - accuracy: 0.9037 - val_loss: 0.2669 - val_accuracy: 0.9042\n",
            "Epoch 7/10\n",
            "211/211 [==============================] - 1s 5ms/step - loss: 0.2550 - accuracy: 0.9071 - val_loss: 0.2612 - val_accuracy: 0.9092\n",
            "Epoch 8/10\n",
            "211/211 [==============================] - 1s 5ms/step - loss: 0.2411 - accuracy: 0.9126 - val_loss: 0.2643 - val_accuracy: 0.9070\n",
            "Epoch 9/10\n",
            "211/211 [==============================] - 1s 6ms/step - loss: 0.2301 - accuracy: 0.9164 - val_loss: 0.2489 - val_accuracy: 0.9188\n",
            "Epoch 10/10\n",
            "211/211 [==============================] - 1s 5ms/step - loss: 0.2186 - accuracy: 0.9201 - val_loss: 0.2402 - val_accuracy: 0.9170\n"
          ]
        },
        {
          "output_type": "execute_result",
          "data": {
            "text/plain": [
              "<keras.src.callbacks.History at 0x79266dda3640>"
            ]
          },
          "metadata": {},
          "execution_count": 13
        }
      ]
    },
    {
      "cell_type": "markdown",
      "metadata": {
        "id": "TZT9-7w9n4YO"
      },
      "source": [
        "# Экспорт в TFLite\n",
        "\n",
        "Теперь вы сохраните модель в TFLite. Следует отметить, что вы, вероятно, увидите некоторые предупреждающие сообщения при запуске кода ниже. Эти предупреждения связаны с обновлениями программного обеспечения и не должны вызывать ошибок или препятствовать запуску вашего кода."
      ]
    },
    {
      "cell_type": "code",
      "metadata": {
        "id": "9dq78KBkCV2_"
      },
      "source": [
        "# УПРАЖНЕНИЕ: используйте API tf.saved_model, чтобы сохранить модель в формате SavedModel.\n",
        "export_dir = 'saved_model/1'\n",
        "\n",
        "# YOUR CODE HERE\n",
        "tf.saved_model.save(model, export_dir)"
      ],
      "execution_count": 14,
      "outputs": []
    },
    {
      "cell_type": "code",
      "metadata": {
        "cellView": "form",
        "id": "EDGiYrBdE6fl"
      },
      "source": [
        "#@title Select mode of optimization\n",
        "mode = \"Speed\" #@param [\"Default\", \"Storage\", \"Speed\"]\n",
        "\n",
        "if mode == 'Storage':\n",
        "    optimization = tf.lite.Optimize.OPTIMIZE_FOR_SIZE\n",
        "elif mode == 'Speed':\n",
        "    optimization = tf.lite.Optimize.OPTIMIZE_FOR_LATENCY\n",
        "else:\n",
        "    optimization = tf.lite.Optimize.DEFAULT"
      ],
      "execution_count": 15,
      "outputs": []
    },
    {
      "cell_type": "code",
      "metadata": {
        "id": "RbcS9C00CzGe"
      },
      "source": [
        "# УПРАЖНЕНИЕ: используйте TFLiteConverter SavedModel API для инициализации конвертера\n",
        "\n",
        "converter = tf.lite.TFLiteConverter.from_saved_model(export_dir)\n",
        "\n",
        "# Установите оптимизацию\n",
        "converter.optimizations = [tf.lite.Optimize.DEFAULT]\n",
        "\n",
        "# Вызовите конвертер, чтобы окончательно сгенерировать модель TFLite\n",
        "tflite_model = converter.convert()"
      ],
      "execution_count": 16,
      "outputs": []
    },
    {
      "cell_type": "code",
      "metadata": {
        "id": "q5PWCDsTC3El",
        "colab": {
          "base_uri": "https://localhost:8080/"
        },
        "outputId": "b33a73ab-7805-4c49-9914-54099f52daab"
      },
      "source": [
        "tflite_model_file = pathlib.Path('./model.tflite')\n",
        "tflite_model_file.write_bytes(tflite_model)"
      ],
      "execution_count": 17,
      "outputs": [
        {
          "output_type": "execute_result",
          "data": {
            "text/plain": [
              "259728"
            ]
          },
          "metadata": {},
          "execution_count": 17
        }
      ]
    },
    {
      "cell_type": "markdown",
      "metadata": {
        "id": "SR6wFcQ1Fglm"
      },
      "source": [
        "# Тестирование модели с интерпретатором TFLite"
      ]
    },
    {
      "cell_type": "code",
      "metadata": {
        "id": "rKcToCBEC-Bu"
      },
      "source": [
        "# Загружаем модель TFLite и выделяем тензоры.\n",
        "interpreter = tf.lite.Interpreter(model_content=tflite_model)\n",
        "interpreter.allocate_tensors()\n",
        "\n",
        "input_index = interpreter.get_input_details()[0][\"index\"]\n",
        "output_index = interpreter.get_output_details()[0][\"index\"]"
      ],
      "execution_count": 18,
      "outputs": []
    },
    {
      "cell_type": "code",
      "metadata": {
        "id": "E8EpFpIBFkq8"
      },
      "source": [
        "# Собираем результаты для случайно выбранных тестовых изображений\n",
        "predictions = []\n",
        "test_labels = []\n",
        "test_images = []\n",
        "\n",
        "for img, label in test_batches.take(50):\n",
        "    interpreter.set_tensor(input_index, img)\n",
        "    interpreter.invoke()\n",
        "    predictions.append(interpreter.get_tensor(output_index))\n",
        "    test_labels.append(label[0])\n",
        "    test_images.append(np.array(img))"
      ],
      "execution_count": 19,
      "outputs": []
    },
    {
      "cell_type": "code",
      "metadata": {
        "id": "kSjTmi05Tyod",
        "cellView": "form"
      },
      "source": [
        "#@title Служебные функции для построения графиков\n",
        "# Utilities for plotting\n",
        "\n",
        "def plot_image(i, predictions_array, true_label, img):\n",
        "    predictions_array, true_label, img = predictions_array[i], true_label[i], img[i]\n",
        "    plt.grid(False)\n",
        "    plt.xticks([])\n",
        "    plt.yticks([])\n",
        "\n",
        "    img = np.squeeze(img)\n",
        "\n",
        "    plt.imshow(img, cmap=plt.cm.binary)\n",
        "\n",
        "    predicted_label = np.argmax(predictions_array)\n",
        "\n",
        "    if predicted_label == true_label.numpy():\n",
        "        color = 'green'\n",
        "    else:\n",
        "        color = 'red'\n",
        "\n",
        "    plt.xlabel(\"{} {:2.0f}% ({})\".format(class_names[predicted_label],\n",
        "                                         100*np.max(predictions_array),\n",
        "                                         class_names[true_label]), color=color)\n",
        "\n",
        "def plot_value_array(i, predictions_array, true_label):\n",
        "    predictions_array, true_label = predictions_array[i], true_label[i]\n",
        "    plt.grid(False)\n",
        "    plt.xticks(list(range(10)), class_names, rotation='vertical')\n",
        "    plt.yticks([])\n",
        "    thisplot = plt.bar(range(10), predictions_array[0], color=\"#777777\")\n",
        "    plt.ylim([0, 1])\n",
        "    predicted_label = np.argmax(predictions_array[0])\n",
        "\n",
        "    thisplot[predicted_label].set_color('red')\n",
        "    thisplot[true_label].set_color('green')"
      ],
      "execution_count": 20,
      "outputs": []
    },
    {
      "cell_type": "code",
      "metadata": {
        "id": "ZZwg0wFaVXhZ",
        "cellView": "form",
        "colab": {
          "base_uri": "https://localhost:8080/",
          "height": 768
        },
        "outputId": "de7a820e-f4af-4bfa-9d6c-4c68a77dc796"
      },
      "source": [
        "#@title Визуализация результатов { run: \"auto\" }\n",
        "index = 13 #@param {type:\"slider\", min:1, max:50, step:1}\n",
        "plt.figure(figsize=(6,3))\n",
        "plt.subplot(1,2,1)\n",
        "plot_image(index, predictions, test_labels, test_images)\n",
        "plt.show()\n",
        "plot_value_array(index, predictions, test_labels)\n",
        "plt.show()"
      ],
      "execution_count": 21,
      "outputs": [
        {
          "output_type": "display_data",
          "data": {
            "text/plain": [
              "<Figure size 600x300 with 1 Axes>"
            ],
            "image/png": "[encoded data removed]"
          },
          "metadata": {}
        },
        {
          "output_type": "display_data",
          "data": {
            "text/plain": [
              "<Figure size 640x480 with 1 Axes>"
            ],
            "image/png": "[encoded data removed]"
          },
          "metadata": {}
        }
      ]
    },
    {
      "cell_type": "markdown",
      "metadata": {
        "id": "076bo3FMpRDb"
      },
      "source": [
        "# Загрузите модель и ресурсы TFLite\n",
        "\n",
        "вы можете запустить ячейку ниже, чтобы загрузить модель tflite и этикетки на свой локальный диск.\n",
        "\n",
        "**Примечание**: если файлы не загружаются при запуске ячейки, попробуйте запустить ячейку второй раз. Ваш браузер может предложить вам разрешить загрузку нескольких файлов."
      ]
    },
    {
      "cell_type": "code",
      "metadata": {
        "id": "XsPXqPlgZPjE",
        "colab": {
          "base_uri": "https://localhost:8080/",
          "height": 17
        },
        "outputId": "4329c993-aa0c-4485-b505-f350a77e1d27"
      },
      "source": [
        "try:\n",
        "    from google.colab import files\n",
        "\n",
        "    files.download(tflite_model_file)\n",
        "    files.download('labels.txt')\n",
        "except:\n",
        "    pass"
      ],
      "execution_count": 22,
      "outputs": [
        {
          "output_type": "display_data",
          "data": {
            "text/plain": [
              "<IPython.core.display.Javascript object>"
            ],
            "application/javascript": [
              "\n",
              "    async function download(id, filename, size) {\n",
              "      if (!google.colab.kernel.accessAllowed) {\n",
              "        return;\n",
              "      }\n",
              "      const div = document.createElement('div');\n",
              "      const label = document.createElement('label');\n",
              "      label.textContent = `Downloading \"${filename}\": `;\n",
              "      div.appendChild(label);\n",
              "      const progress = document.createElement('progress');\n",
              "      progress.max = size;\n",
              "      div.appendChild(progress);\n",
              "      document.body.appendChild(div);\n",
              "\n",
              "      const buffers = [];\n",
              "      let downloaded = 0;\n",
              "\n",
              "      const channel = await google.colab.kernel.comms.open(id);\n",
              "      // Send a message to notify the kernel that we're ready.\n",
              "      channel.send({})\n",
              "\n",
              "      for await (const message of channel.messages) {\n",
              "        // Send a message to notify the kernel that we're ready.\n",
              "        channel.send({})\n",
              "        if (message.buffers) {\n",
              "          for (const buffer of message.buffers) {\n",
              "            buffers.push(buffer);\n",
              "            downloaded += buffer.byteLength;\n",
              "            progress.value = downloaded;\n",
              "          }\n",
              "        }\n",
              "      }\n",
              "      const blob = new Blob(buffers, {type: 'application/binary'});\n",
              "      const a = document.createElement('a');\n",
              "      a.href = window.URL.createObjectURL(blob);\n",
              "      a.download = filename;\n",
              "      div.appendChild(a);\n",
              "      a.click();\n",
              "      div.remove();\n",
              "    }\n",
              "  "
            ]
          },
          "metadata": {}
        },
        {
          "output_type": "display_data",
          "data": {
            "text/plain": [
              "<IPython.core.display.Javascript object>"
            ],
            "application/javascript": [
              "download(\"download_939c9e54-f799-4f9d-9208-c5d9bc308674\", \"model.tflite\", 259728)"
            ]
          },
          "metadata": {}
        },
        {
          "output_type": "display_data",
          "data": {
            "text/plain": [
              "<IPython.core.display.Javascript object>"
            ],
            "application/javascript": [
              "\n",
              "    async function download(id, filename, size) {\n",
              "      if (!google.colab.kernel.accessAllowed) {\n",
              "        return;\n",
              "      }\n",
              "      const div = document.createElement('div');\n",
              "      const label = document.createElement('label');\n",
              "      label.textContent = `Downloading \"${filename}\": `;\n",
              "      div.appendChild(label);\n",
              "      const progress = document.createElement('progress');\n",
              "      progress.max = size;\n",
              "      div.appendChild(progress);\n",
              "      document.body.appendChild(div);\n",
              "\n",
              "      const buffers = [];\n",
              "      let downloaded = 0;\n",
              "\n",
              "      const channel = await google.colab.kernel.comms.open(id);\n",
              "      // Send a message to notify the kernel that we're ready.\n",
              "      channel.send({})\n",
              "\n",
              "      for await (const message of channel.messages) {\n",
              "        // Send a message to notify the kernel that we're ready.\n",
              "        channel.send({})\n",
              "        if (message.buffers) {\n",
              "          for (const buffer of message.buffers) {\n",
              "            buffers.push(buffer);\n",
              "            downloaded += buffer.byteLength;\n",
              "            progress.value = downloaded;\n",
              "          }\n",
              "        }\n",
              "      }\n",
              "      const blob = new Blob(buffers, {type: 'application/binary'});\n",
              "      const a = document.createElement('a');\n",
              "      a.href = window.URL.createObjectURL(blob);\n",
              "      a.download = filename;\n",
              "      div.appendChild(a);\n",
              "      a.click();\n",
              "      div.remove();\n",
              "    }\n",
              "  "
            ]
          },
          "metadata": {}
        },
        {
          "output_type": "display_data",
          "data": {
            "text/plain": [
              "<IPython.core.display.Javascript object>"
            ],
            "application/javascript": [
              "download(\"download_8facfcf4-4606-4771-9f29-2046101504d0\", \"labels.txt\", 152)"
            ]
          },
          "metadata": {}
        }
      ]
    },
    {
      "cell_type": "markdown",
      "metadata": {
        "id": "H8t7_jRiz9Vw"
      },
      "source": [
        "# Подготовка тестовых изображений для загрузки (необязательно)"
      ]
    },
    {
      "cell_type": "code",
      "metadata": {
        "id": "Fi09nIps0gBu"
      },
      "source": [
        "!mkdir -p test_images"
      ],
      "execution_count": null,
      "outputs": []
    },
    {
      "cell_type": "code",
      "metadata": {
        "id": "sF7EZ63J0hZs"
      },
      "source": [
        "from PIL import Image\n",
        "\n",
        "for index, (image, label) in enumerate(test_batches.take(50)):\n",
        "    image = tf.cast(image * 255.0, tf.uint8)\n",
        "    image = tf.squeeze(image).numpy()\n",
        "    pil_image = Image.fromarray(image)\n",
        "    pil_image.save('test_images/{}_{}.jpg'.format(class_names[label[0]].lower(), index))"
      ],
      "execution_count": null,
      "outputs": []
    },
    {
      "cell_type": "code",
      "metadata": {
        "id": "uM35O-uv0iWS"
      },
      "source": [
        "!ls test_images"
      ],
      "execution_count": null,
      "outputs": []
    },
    {
      "cell_type": "code",
      "metadata": {
        "id": "aR20r4qW0jVm"
      },
      "source": [
        "!zip -qq fmnist_test_images.zip -r test_images/"
      ],
      "execution_count": null,
      "outputs": []
    },
    {
      "cell_type": "markdown",
      "metadata": {
        "id": "-o_oE7oZf7sv"
      },
      "source": [
        "Вы можете запустить ячейку ниже, чтобы загрузить Zip-файл с изображениями на свой локальный диск.\n",
        "\n",
        "**Примечание**: если Zip-файл не загружается при запуске ячейки, попробуйте запустить ячейку второй раз."
      ]
    },
    {
      "cell_type": "code",
      "metadata": {
        "id": "tjk4537X0kWN",
        "colab": {
          "base_uri": "https://localhost:8080/",
          "height": 17
        },
        "outputId": "d28487d1-295d-45f0-f51f-256dd2d4409c"
      },
      "source": [
        "try:\n",
        "    files.download('fmnist_test_images.zip')\n",
        "except:\n",
        "    pass"
      ],
      "execution_count": null,
      "outputs": [
        {
          "output_type": "display_data",
          "data": {
            "text/plain": [
              "<IPython.core.display.Javascript object>"
            ],
            "application/javascript": [
              "\n",
              "    async function download(id, filename, size) {\n",
              "      if (!google.colab.kernel.accessAllowed) {\n",
              "        return;\n",
              "      }\n",
              "      const div = document.createElement('div');\n",
              "      const label = document.createElement('label');\n",
              "      label.textContent = `Downloading \"${filename}\": `;\n",
              "      div.appendChild(label);\n",
              "      const progress = document.createElement('progress');\n",
              "      progress.max = size;\n",
              "      div.appendChild(progress);\n",
              "      document.body.appendChild(div);\n",
              "\n",
              "      const buffers = [];\n",
              "      let downloaded = 0;\n",
              "\n",
              "      const channel = await google.colab.kernel.comms.open(id);\n",
              "      // Send a message to notify the kernel that we're ready.\n",
              "      channel.send({})\n",
              "\n",
              "      for await (const message of channel.messages) {\n",
              "        // Send a message to notify the kernel that we're ready.\n",
              "        channel.send({})\n",
              "        if (message.buffers) {\n",
              "          for (const buffer of message.buffers) {\n",
              "            buffers.push(buffer);\n",
              "            downloaded += buffer.byteLength;\n",
              "            progress.value = downloaded;\n",
              "          }\n",
              "        }\n",
              "      }\n",
              "      const blob = new Blob(buffers, {type: 'application/binary'});\n",
              "      const a = document.createElement('a');\n",
              "      a.href = window.URL.createObjectURL(blob);\n",
              "      a.download = filename;\n",
              "      div.appendChild(a);\n",
              "      a.click();\n",
              "      div.remove();\n",
              "    }\n",
              "  "
            ]
          },
          "metadata": {}
        },
        {
          "output_type": "display_data",
          "data": {
            "text/plain": [
              "<IPython.core.display.Javascript object>"
            ],
            "application/javascript": [
              "download(\"download_3dd7435b-4b2b-45cf-96b5-f576fd497fdb\", \"fmnist_test_images.zip\", 4852)"
            ]
          },
          "metadata": {}
        }
      ]
    }
  ]
}